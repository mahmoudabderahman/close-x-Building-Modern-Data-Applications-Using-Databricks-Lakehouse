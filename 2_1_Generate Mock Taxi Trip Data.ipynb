{
 "cells": [
  {
   "cell_type": "code",
   "execution_count": 0,
   "metadata": {
    "application/vnd.databricks.v1+cell": {
     "cellMetadata": {
      "byteLimit": 2048000,
      "rowLimit": 10000
     },
     "inputWidgets": {},
     "nuid": "f700ee2e-1bba-4df3-b19a-19c4c100b6a1",
     "showTitle": false,
     "tableResultSettingsMap": {},
     "title": ""
    }
   },
   "outputs": [],
   "source": [
    "dbutils.widgets.text(\"wNumberOfFiles\", \"10\", \"Number of new files to generate\")"
   ]
  },
  {
   "cell_type": "code",
   "execution_count": 0,
   "metadata": {
    "application/vnd.databricks.v1+cell": {
     "cellMetadata": {
      "byteLimit": 2048000,
      "rowLimit": 10000
     },
     "inputWidgets": {},
     "nuid": "3fdbce19-6192-4efc-8a7e-55537f4f981b",
     "showTitle": false,
     "tableResultSettingsMap": {},
     "title": ""
    }
   },
   "outputs": [],
   "source": [
    "%pip install dbldatagen==0.4.0"
   ]
  },
  {
   "cell_type": "code",
   "execution_count": 0,
   "metadata": {
    "application/vnd.databricks.v1+cell": {
     "cellMetadata": {
      "byteLimit": 2048000,
      "rowLimit": 10000
     },
     "inputWidgets": {},
     "nuid": "16953270-557c-47f2-b9d9-3bb6bf35e496",
     "showTitle": false,
     "tableResultSettingsMap": {},
     "title": ""
    }
   },
   "outputs": [],
   "source": [
    "def generate_random_trip_data():\n",
    "    \"\"\"Generate random taxi trip data\"\"\"\n",
    "    import dbldatagen as dg\n",
    "    import pyspark.sql.types as T\n",
    "\n",
    "    ds = (\n",
    "        dg.DataGenerator(\n",
    "            spark, name=\"random_taxi_trip_dataset\", rows=10000, partitions=4\n",
    "        )\n",
    "        .withColumn(\"trip_id\", T.IntegerType(), minValue=1000000, maxValue=2000000)\n",
    "        .withColumn(\"taxi_number\", T.IntegerType(), uniqueValues=10000, random=True)\n",
    "        .withColumn(\"passenger_count\", T.IntegerType(), minValue=1, maxValue=4)\n",
    "        .withColumn(\"trip_amount\", T.FloatType(), minValue=10.0, maxValue=1000.0)\n",
    "        .withColumn(\"trip_distance\", T.FloatType(), minValue=0.1, maxValue=1000.0)\n",
    "        .withColumn(\"trip_date\", T.DateType(), uniqueValues=300, random=True)\n",
    "        .withColumn(\"op_type\", T.StringType(), values=[\"I\", \"U\", \"D\"], random=True)\n",
    "        .withColumn(\"op_date\", T.DateType(), uniqueValues=300, random=True)\n",
    "        .withColumn(\"sequence_num\", T.IntegerType(), minValue=1000000, maxValue=2000000)\n",
    "    )\n",
    "\n",
    "    return ds.build()"
   ]
  },
  {
   "cell_type": "code",
   "execution_count": 0,
   "metadata": {
    "application/vnd.databricks.v1+cell": {
     "cellMetadata": {
      "byteLimit": 2048000,
      "rowLimit": 10000
     },
     "inputWidgets": {},
     "nuid": "c4dd56ca-ac76-44b8-af9f-1acc4c78f794",
     "showTitle": false,
     "tableResultSettingsMap": {},
     "title": ""
    }
   },
   "outputs": [],
   "source": [
    "dbutils.fs.ls('dbfs:/')"
   ]
  },
  {
   "cell_type": "code",
   "execution_count": 0,
   "metadata": {
    "application/vnd.databricks.v1+cell": {
     "cellMetadata": {
      "byteLimit": 2048000,
      "rowLimit": 10000
     },
     "inputWidgets": {},
     "nuid": "a8308a70-9b03-4427-8489-8fcdb3123889",
     "showTitle": false,
     "tableResultSettingsMap": {},
     "title": ""
    }
   },
   "outputs": [],
   "source": [
    "dbutils.fs.ls(\"dbfs:/tmp/\")"
   ]
  },
  {
   "cell_type": "code",
   "execution_count": 0,
   "metadata": {
    "application/vnd.databricks.v1+cell": {
     "cellMetadata": {
      "byteLimit": 2048000,
      "rowLimit": 10000
     },
     "inputWidgets": {},
     "nuid": "02e2a2ca-9354-4380-8e19-6e4145e1dd3e",
     "showTitle": false,
     "tableResultSettingsMap": {},
     "title": ""
    }
   },
   "outputs": [],
   "source": [
    "# dbutils.fs.mkdirs(\"dbfs:/tmp/chp_02/taxi_data\")\n",
    "# dbutils.fs.mkdirs(\"dbfs:/tmp/chp_02/taxi_data_chkpnt\")\n",
    "spark.sql(\"CREATE SCHEMA IF NOT EXISTS hive_metastore.chp_02\")"
   ]
  },
  {
   "cell_type": "code",
   "execution_count": 0,
   "metadata": {
    "application/vnd.databricks.v1+cell": {
     "cellMetadata": {
      "byteLimit": 2048000,
      "rowLimit": 10000
     },
     "inputWidgets": {},
     "nuid": "17690605-f906-45a5-8a1c-93cee6eee2fd",
     "showTitle": false,
     "tableResultSettingsMap": {},
     "title": ""
    }
   },
   "outputs": [],
   "source": [
    "import random\n",
    "\n",
    "max_num_files = dbutils.widgets.get(\"wNumberOfFiles\")\n",
    "for i in range(int(max_num_files)):\n",
    "    df = generate_random_trip_data()\n",
    "    file_name = f\"/tmp/chp_02/taxi_data/taxi_data_{random.randint(1, 1000000)}.json\"\n",
    "    df.write.mode(\"append\").json(file_name)\n",
    "    print(f\"Wrote trip data to '{file_name}'\")"
   ]
  },
  {
   "cell_type": "code",
   "execution_count": 0,
   "metadata": {
    "application/vnd.databricks.v1+cell": {
     "cellMetadata": {
      "byteLimit": 2048000,
      "rowLimit": 10000
     },
     "inputWidgets": {},
     "nuid": "96c34b26-a261-4b46-b12a-2bf8a15106e6",
     "showTitle": false,
     "tableResultSettingsMap": {},
     "title": ""
    }
   },
   "outputs": [],
   "source": [
    "df = (\n",
    "    spark.read.json(\"/tmp/chp_02/taxi_data/taxi_data_*.json\")\n",
    ")\n",
    "df.display()"
   ]
  },
  {
   "cell_type": "code",
   "execution_count": 0,
   "metadata": {
    "application/vnd.databricks.v1+cell": {
     "cellMetadata": {},
     "inputWidgets": {},
     "nuid": "9e43643e-8040-419c-a94e-aa2d6f7d24be",
     "showTitle": false,
     "tableResultSettingsMap": {},
     "title": ""
    }
   },
   "outputs": [],
   "source": [
    "# Optional - Cleanup random generated data\n",
    "dbutils.fs.rm(\"/tmp/chp_02/taxi_data/\", True)\n",
    "dbutils.fs.rm(\"/tmp/chp_02/taxi_data_chkpnt\", recurse=True)\n",
    "dbutils.fs.rm(\"/tmp/chp_02/\", True)\n",
    "spark.sql(\"DROP SCHEMA IF EXISTS dbdemos.chp_02 CASCADE\")\n"
   ]
  }
 ],
 "metadata": {
  "application/vnd.databricks.v1+notebook": {
   "computePreferences": null,
   "dashboards": [],
   "environmentMetadata": {
    "base_environment": "",
    "environment_version": "2"
   },
   "language": "python",
   "notebookMetadata": {
    "pythonIndentUnit": 4
   },
   "notebookName": "2_1_Generate Mock Taxi Trip Data",
   "widgets": {
    "wNumberOfFiles": {
     "currentValue": "10",
     "nuid": "19338b6c-c9f7-401e-bb90-c70cde61b772",
     "typedWidgetInfo": {
      "autoCreated": false,
      "defaultValue": "10",
      "label": "Number of new files to generate",
      "name": "wNumberOfFiles",
      "options": {
       "widgetDisplayType": "Text",
       "validationRegex": null
      },
      "parameterDataType": "String"
     },
     "widgetInfo": {
      "widgetType": "text",
      "defaultValue": "10",
      "label": "Number of new files to generate",
      "name": "wNumberOfFiles",
      "options": {
       "widgetType": "text",
       "autoCreated": null,
       "validationRegex": null
      }
     }
    }
   }
  },
  "language_info": {
   "name": "python"
  }
 },
 "nbformat": 4,
 "nbformat_minor": 0
}
