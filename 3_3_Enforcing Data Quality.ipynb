{
 "cells": [
  {
   "cell_type": "code",
   "execution_count": 0,
   "metadata": {
    "application/vnd.databricks.v1+cell": {
     "cellMetadata": {
      "byteLimit": 2048000,
      "rowLimit": 10000
     },
     "inputWidgets": {},
     "nuid": "9f85ff74-d7a9-4a62-a760-ac8a02164963",
     "showTitle": false,
     "tableResultSettingsMap": {},
     "title": ""
    }
   },
   "outputs": [],
   "source": [
    "import dlt\n",
    "from pyspark.sql.functions import *"
   ]
  },
  {
   "cell_type": "code",
   "execution_count": 0,
   "metadata": {
    "application/vnd.databricks.v1+cell": {
     "cellMetadata": {
      "byteLimit": 2048000,
      "rowLimit": 10000
     },
     "inputWidgets": {},
     "nuid": "17ce4c8f-9623-4c14-947d-9d840e0f2410",
     "showTitle": false,
     "tableResultSettingsMap": {},
     "title": ""
    }
   },
   "outputs": [],
   "source": [
    "dbutils.fs.ls('/tmp/chp_03/taxi_data')"
   ]
  },
  {
   "cell_type": "code",
   "execution_count": 0,
   "metadata": {
    "application/vnd.databricks.v1+cell": {
     "cellMetadata": {
      "byteLimit": 2048000,
      "rowLimit": 10000
     },
     "inputWidgets": {},
     "nuid": "dca07f0f-3542-4504-98b7-71d640cd216a",
     "showTitle": false,
     "tableResultSettingsMap": {},
     "title": ""
    }
   },
   "outputs": [],
   "source": [
    "@dlt.table(comment=\"The randomly generated taxi trip dataset\")\n",
    "def yellow_taxi_raw():\n",
    "    path = \"/tmp/chp_03/taxi_data\"\n",
    "    checkpoint = \"/tmp/chp_03/taxi_data_chkpnt\"\n",
    "    schema = \"trip_id INT, taxi_number INT, passenger_count INT, trip_amount FLOAT, trip_distance FLOAT, trip_date DATE\"\n",
    "    return (\n",
    "        spark.readStream.format(\"cloudFiles\")\n",
    "        .option(\"cloudFiles.format\", \"json\")\n",
    "        .option(\"cloudFiles.schemaLocation\", \"/tmp/chp_03/taxi_data_chkpnt\")\n",
    "        #.option(\"cloudFiles.includeExistingFiles\", \"true\")\n",
    "        .load(path)\n",
    "    )"
   ]
  },
  {
   "cell_type": "code",
   "execution_count": 0,
   "metadata": {
    "application/vnd.databricks.v1+cell": {
     "cellMetadata": {
      "byteLimit": 2048000,
      "rowLimit": 10000
     },
     "inputWidgets": {},
     "nuid": "dfc686de-f237-44d3-b505-e4aa00e9a028",
     "showTitle": false,
     "tableResultSettingsMap": {},
     "title": ""
    }
   },
   "outputs": [],
   "source": [
    "@dlt.table(\n",
    "    name=\"trip_data_financials\",\n",
    "    comment=\"Financial information from completed taxi trips.\"\n",
    ")\n",
    "@dlt.expect_or_fail(\"valid_total_amount\", \"trip_amount > 0.0\")\n",
    "def trip_data_financials():\n",
    "    return (\n",
    "        dlt.readStream(\"yellow_taxi_raw\")\n",
    "           .withColumn(\"driver_payment\",\n",
    "                       expr(\"trip_amount*0.40\"))\n",
    "           .withColumn(\"vehicle_maintenance_fee\",\n",
    "                       expr(\"trip_amount*0.05\"))\n",
    "           .withColumn(\"adminstrative_fee\",\n",
    "                       expr(\"trip_amount*0.1\"))\n",
    "           .withColumn(\"potential_profits\",\n",
    "                       expr(\"trip_amount*0.45\")))"
   ]
  },
  {
   "cell_type": "code",
   "execution_count": 0,
   "metadata": {
    "application/vnd.databricks.v1+cell": {
     "cellMetadata": {},
     "inputWidgets": {},
     "nuid": "10de3c73-92a3-44ca-88c8-1e85fbe1f261",
     "showTitle": false,
     "tableResultSettingsMap": {},
     "title": ""
    }
   },
   "outputs": [],
   "source": [
    "assertions = {\n",
    "   \"total_amount_constraint\": \"trip_amount > 0.0\",\n",
    "   \"passenger_count\": \"passenger_count >= 1\"\n",
    "}\n",
    "\n",
    "@dlt.table(\n",
    "   name=\"yellow_taxi_validated\",\n",
    "   comment=\"A dataset containing trip data that has been validated.\")\n",
    "@dlt.expect_all_or_drop(assertions)\n",
    "def yellow_taxi_validated():\n",
    "   return (dlt.readStream(\"yellow_taxi_raw\")\n",
    "      .withColumn(\"nyc_congestion_tax\", expr(\"trip_amount * 0.05\"))) "
   ]
  }
 ],
 "metadata": {
  "application/vnd.databricks.v1+notebook": {
   "computePreferences": null,
   "dashboards": [],
   "environmentMetadata": {
    "base_environment": "",
    "environment_version": "2"
   },
   "language": "python",
   "notebookMetadata": {
    "pythonIndentUnit": 4
   },
   "notebookName": "3_3_Enforcing Data Quality",
   "widgets": {}
  },
  "language_info": {
   "name": "python"
  }
 },
 "nbformat": 4,
 "nbformat_minor": 0
}
