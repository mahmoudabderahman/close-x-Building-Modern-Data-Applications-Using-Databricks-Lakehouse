{
 "cells": [
  {
   "cell_type": "code",
   "execution_count": 0,
   "metadata": {
    "application/vnd.databricks.v1+cell": {
     "cellMetadata": {
      "byteLimit": 2048000,
      "implicitDf": true,
      "rowLimit": 10000
     },
     "inputWidgets": {},
     "nuid": "01e9505c-22d9-4738-a493-1914459ba859",
     "showTitle": false,
     "tableResultSettingsMap": {},
     "title": ""
    }
   },
   "outputs": [],
   "source": [
    "%sql\n",
    "-- CREATE CATALOG IF NOT EXISTS yellow_taxi_catalog;\n",
    "CREATE SCHEMA IF NOT EXISTS yellow_taxi_catalog.yellow_taxi;\n",
    "CREATE TABLE yellow_taxi_catalog.yellow_taxi.drivers(\n",
    "    driver_id INTEGER NOT NULL,\n",
    "    first_name STRING,\n",
    "    last_name STRING,\n",
    "    CONSTRAINT drivers_pk PRIMARY KEY(driver_id));"
   ]
  },
  {
   "cell_type": "code",
   "execution_count": 0,
   "metadata": {
    "application/vnd.databricks.v1+cell": {
     "cellMetadata": {
      "byteLimit": 2048000,
      "implicitDf": true,
      "rowLimit": 10000
     },
     "inputWidgets": {},
     "nuid": "646203d3-ede2-417a-a17e-fd83b50a0fbf",
     "showTitle": false,
     "tableResultSettingsMap": {},
     "title": ""
    }
   },
   "outputs": [],
   "source": [
    "%sql\n",
    "CREATE TABLE yellow_taxi_catalog.yellow_taxi.rides(\n",
    "    ride_id INTEGER NOT NULL,\n",
    "    driver_id INTEGER,\n",
    "    passenger_count INTEGER,\n",
    "    total_amount DOUBLE,\n",
    "    CONSTRAINT rides_pk PRIMARY KEY (ride_id),\n",
    "    CONSTRAINT drivers_fk FOREIGN KEY (driver_id)\n",
    "    REFERENCES yellow_taxi_catalog.yellow_taxi.drivers);"
   ]
  }
 ],
 "metadata": {
  "application/vnd.databricks.v1+notebook": {
   "computePreferences": null,
   "dashboards": [],
   "environmentMetadata": {
    "base_environment": "",
    "environment_version": "2"
   },
   "language": "python",
   "notebookMetadata": {
    "mostRecentlyExecutedCommandWithImplicitDF": {
     "commandId": 4209162636510090,
     "dataframes": [
      "_sqldf"
     ]
    },
    "pythonIndentUnit": 4
   },
   "notebookName": "3_1_",
   "widgets": {}
  },
  "language_info": {
   "name": "python"
  }
 },
 "nbformat": 4,
 "nbformat_minor": 0
}
