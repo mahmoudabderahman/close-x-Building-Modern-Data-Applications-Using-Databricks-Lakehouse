{
 "cells": [
  {
   "cell_type": "code",
   "execution_count": 0,
   "metadata": {
    "application/vnd.databricks.v1+cell": {
     "cellMetadata": {
      "byteLimit": 2048000,
      "rowLimit": 10000
     },
     "inputWidgets": {},
     "nuid": "bd2ed4c0-d1e1-4092-84e5-a8e3c9ed8973",
     "showTitle": false,
     "tableResultSettingsMap": {},
     "title": ""
    }
   },
   "outputs": [],
   "source": [
    "dbutils.widgets.text(\"wNumberOfFiles\", \"100\", \"Number of new files to generate\")"
   ]
  },
  {
   "cell_type": "code",
   "execution_count": 0,
   "metadata": {
    "application/vnd.databricks.v1+cell": {
     "cellMetadata": {
      "byteLimit": 2048000,
      "rowLimit": 10000
     },
     "inputWidgets": {},
     "nuid": "1aa4fb3e-88d1-47b1-9443-87ffd2f7430c",
     "showTitle": false,
     "tableResultSettingsMap": {},
     "title": ""
    }
   },
   "outputs": [],
   "source": [
    "%pip install dbldatagen==0.4.0\n"
   ]
  },
  {
   "cell_type": "code",
   "execution_count": 0,
   "metadata": {
    "application/vnd.databricks.v1+cell": {
     "cellMetadata": {
      "byteLimit": 2048000,
      "rowLimit": 10000
     },
     "inputWidgets": {},
     "nuid": "f19636bf-edc3-42fa-940e-2d8982d7bccb",
     "showTitle": false,
     "tableResultSettingsMap": {},
     "title": ""
    }
   },
   "outputs": [],
   "source": [
    "def generate_taxi_trip_data():\n",
    "  \"\"\"Generates random taxi trip data\"\"\"\n",
    "  import dbldatagen as dg\n",
    "  from pyspark.sql.types import IntegerType, StringType, FloatType, DateType\n",
    "\n",
    "  ds = (\n",
    "      dg.DataGenerator(spark, name=\"random_taxi_trip_dataset\", rows=100000, partitions=8)\n",
    "      .withColumn(\"trip_id\", IntegerType(), minValue=1000000, maxValue=2000000)\n",
    "      .withColumn(\"taxi_number\", IntegerType(), uniqueValues=10000, random=True)\n",
    "      .withColumn(\"passenger_count\", IntegerType(), minValue=1, maxValue=4)\n",
    "      .withColumn(\"trip_amount\", FloatType(), minValue=-100.0, maxValue=1000.0, random=True)\n",
    "      .withColumn(\"trip_distance\", FloatType(), minValue=0.1, maxValue=1000.0)\n",
    "      .withColumn(\"trip_date\", DateType(), uniqueValues=300, random=True))\n",
    "\n",
    "  return ds.build()"
   ]
  },
  {
   "cell_type": "code",
   "execution_count": 0,
   "metadata": {
    "application/vnd.databricks.v1+cell": {
     "cellMetadata": {
      "byteLimit": 2048000,
      "rowLimit": 10000
     },
     "inputWidgets": {},
     "nuid": "2262c88c-db29-4ecb-9511-eaa19d8ac9f3",
     "showTitle": false,
     "tableResultSettingsMap": {},
     "title": ""
    }
   },
   "outputs": [],
   "source": [
    "dbutils.fs.rm(\"/tmp/chp_03/taxi_data\", True)\n",
    "dbutils.fs.rm(\"/tmp/chp_03/taxi_data_chkpnt\", True)"
   ]
  },
  {
   "cell_type": "code",
   "execution_count": 0,
   "metadata": {
    "application/vnd.databricks.v1+cell": {
     "cellMetadata": {
      "byteLimit": 2048000,
      "rowLimit": 10000
     },
     "inputWidgets": {},
     "nuid": "bca61443-5fdd-4c4a-85d0-5be03b095a3f",
     "showTitle": false,
     "tableResultSettingsMap": {},
     "title": ""
    }
   },
   "outputs": [],
   "source": [
    "dbutils.fs.mkdirs(\"/tmp/chp_03/taxi_data\")\n",
    "dbutils.fs.mkdirs(\"/tmp/chp_03/taxi_data_chkpnt\")"
   ]
  },
  {
   "cell_type": "code",
   "execution_count": 0,
   "metadata": {
    "application/vnd.databricks.v1+cell": {
     "cellMetadata": {
      "byteLimit": 2048000,
      "rowLimit": 10000
     },
     "inputWidgets": {},
     "nuid": "f5817e9d-0dc3-4368-8190-e8c97a41d590",
     "showTitle": false,
     "tableResultSettingsMap": {},
     "title": ""
    }
   },
   "outputs": [],
   "source": [
    "import random\n",
    "\n",
    "max_num_files = dbutils.widgets.get(\"wNumberOfFiles\")\n",
    "for i in range(int(max_num_files)):\n",
    "  df = generate_taxi_trip_data()\n",
    "  file_name = f\"/tmp/chp_03/taxi_data/taxi_data_{random.randint(1, 1000000)}.json\"\n",
    "  df.write.mode(\"append\").json(file_name)\n",
    "  print(f\"Wrote trip data to: '{file_name}'\")"
   ]
  },
  {
   "cell_type": "code",
   "execution_count": 0,
   "metadata": {
    "application/vnd.databricks.v1+cell": {
     "cellMetadata": {
      "byteLimit": 2048000,
      "rowLimit": 10000
     },
     "inputWidgets": {},
     "nuid": "ef662a03-8163-44c6-822f-a07298197ca6",
     "showTitle": false,
     "tableResultSettingsMap": {},
     "title": ""
    }
   },
   "outputs": [],
   "source": [
    "df = (\n",
    "  spark.read.json(\"/tmp/chp_03/taxi_data/taxi_data_*.json\")\n",
    ")\n",
    "df.display()"
   ]
  }
 ],
 "metadata": {
  "application/vnd.databricks.v1+notebook": {
   "computePreferences": null,
   "dashboards": [],
   "environmentMetadata": {
    "base_environment": "",
    "environment_version": "2"
   },
   "language": "python",
   "notebookMetadata": {
    "pythonIndentUnit": 4
   },
   "notebookName": "3_2",
   "widgets": {
    "wNumberOfFiles": {
     "currentValue": "10",
     "nuid": "b6b9617d-e93b-45fb-aafe-65563ac33d08",
     "typedWidgetInfo": {
      "autoCreated": false,
      "defaultValue": "100",
      "label": "Number of new files to generate",
      "name": "wNumberOfFiles",
      "options": {
       "widgetDisplayType": "Text",
       "validationRegex": null
      },
      "parameterDataType": "String"
     },
     "widgetInfo": {
      "widgetType": "text",
      "defaultValue": "100",
      "label": "Number of new files to generate",
      "name": "wNumberOfFiles",
      "options": {
       "widgetType": "text",
       "autoCreated": null,
       "validationRegex": null
      }
     }
    }
   }
  },
  "language_info": {
   "name": "python"
  }
 },
 "nbformat": 4,
 "nbformat_minor": 0
}
