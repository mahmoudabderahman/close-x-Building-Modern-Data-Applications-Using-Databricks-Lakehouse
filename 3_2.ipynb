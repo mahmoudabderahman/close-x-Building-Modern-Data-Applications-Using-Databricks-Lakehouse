{
 "cells": [
  {
   "cell_type": "code",
   "execution_count": 0,
   "metadata": {
    "application/vnd.databricks.v1+cell": {
     "cellMetadata": {
      "byteLimit": 2048000,
      "rowLimit": 10000
     },
     "inputWidgets": {},
     "nuid": "1aa4fb3e-88d1-47b1-9443-87ffd2f7430c",
     "showTitle": false,
     "tableResultSettingsMap": {},
     "title": ""
    }
   },
   "outputs": [],
   "source": [
    "%pip install dbldatagen==0.4.0\n"
   ]
  },
  {
   "cell_type": "code",
   "execution_count": 0,
   "metadata": {
    "application/vnd.databricks.v1+cell": {
     "cellMetadata": {
      "byteLimit": 2048000,
      "rowLimit": 10000
     },
     "inputWidgets": {},
     "nuid": "f19636bf-edc3-42fa-940e-2d8982d7bccb",
     "showTitle": false,
     "tableResultSettingsMap": {},
     "title": ""
    }
   },
   "outputs": [],
   "source": [
    "def generate_taxi_trip_data():\n",
    "    \"\"\"Generates random taxi trip data\"\"\"\n",
    "    import dbldatagen as dg\n",
    "    from pyspark.sql.types import IntegerType, StringType, FloatType, DateType\n",
    "\n",
    "    ds = (\n",
    "        dg.DataGenerator(\n",
    "            spark, name=\"random_taxi_trip_dataset\", rows=100000, partitions=8\n",
    "        )\n",
    "        .withColumn(\"trip_id\", IntegerType(), minValue=1000000, maxValue=2000000)\n",
    "        .withColumn(\"taxi_number\", IntegerType(), uniqueValues=10000, random=True)\n",
    "        .withColumn(\"passenger_count\", IntegerType(), minValue=1, maxValue=4)\n",
    "        .withColumn(\n",
    "            \"trip_amount\", FloatType(), minValue=-100.0, maxValue=1000.0, random=True\n",
    "        )\n",
    "        .withColumn(\"trip_distance\", FloatType(), minValue=0.1, maxValue=1000.0)\n",
    "        .withColumn(\"trip_date\", DateType(), uniqueValues=300, random=True)\n",
    "    )\n",
    "    return ds.build()"
   ]
  },
  {
   "cell_type": "code",
   "execution_count": 0,
   "metadata": {
    "application/vnd.databricks.v1+cell": {
     "cellMetadata": {
      "byteLimit": 2048000,
      "rowLimit": 10000
     },
     "inputWidgets": {},
     "nuid": "bca61443-5fdd-4c4a-85d0-5be03b095a3f",
     "showTitle": false,
     "tableResultSettingsMap": {},
     "title": ""
    }
   },
   "outputs": [],
   "source": [
    "dbutils.fs.mkdirs(\"/tmp/chp_03/taxi_data\")\n"
   ]
  },
  {
   "cell_type": "code",
   "execution_count": 0,
   "metadata": {
    "application/vnd.databricks.v1+cell": {
     "cellMetadata": {
      "byteLimit": 2048000,
      "rowLimit": 10000
     },
     "inputWidgets": {},
     "nuid": "f5817e9d-0dc3-4368-8190-e8c97a41d590",
     "showTitle": false,
     "tableResultSettingsMap": {},
     "title": ""
    }
   },
   "outputs": [],
   "source": [
    "import random\n",
    "max_num_files = 100\n",
    "for i in range(int(max_num_files)):\n",
    "    df = generate_taxi_trip_data()\n",
    "    file_name = f\"/tmp/chp_03/taxi_data/taxi_data_{random.randint(1, 1000000)}.json\"\n",
    "    df.write.mode(\"append\").json(file_name)"
   ]
  }
 ],
 "metadata": {
  "application/vnd.databricks.v1+notebook": {
   "computePreferences": null,
   "dashboards": [],
   "environmentMetadata": {
    "base_environment": "",
    "environment_version": "2"
   },
   "language": "python",
   "notebookMetadata": {
    "pythonIndentUnit": 4
   },
   "notebookName": "3_2",
   "widgets": {}
  },
  "language_info": {
   "name": "python"
  }
 },
 "nbformat": 4,
 "nbformat_minor": 0
}
